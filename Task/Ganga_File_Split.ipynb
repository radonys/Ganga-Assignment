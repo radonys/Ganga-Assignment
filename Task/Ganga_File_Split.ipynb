{
  "nbformat": 4,
  "nbformat_minor": 0,
  "metadata": {
    "colab": {
      "name": "Ganga_File_Split.ipynb",
      "version": "0.3.2",
      "provenance": [],
      "collapsed_sections": [],
      "toc_visible": true,
      "include_colab_link": true
    },
    "kernelspec": {
      "name": "python2",
      "display_name": "Python 2"
    }
  },
  "cells": [
    {
      "cell_type": "markdown",
      "metadata": {
        "id": "view-in-github",
        "colab_type": "text"
      },
      "source": [
        "<a href=\"https://colab.research.google.com/github/radonys/Ganga-Assignment/blob/master/Task/Ganga_File_Split.ipynb\" target=\"_parent\"><img src=\"https://colab.research.google.com/assets/colab-badge.svg\" alt=\"Open In Colab\"/></a>"
      ]
    },
    {
      "metadata": {
        "id": "gv8zXbLkvDvV",
        "colab_type": "text"
      },
      "cell_type": "markdown",
      "source": [
        "# Ganga File Split and Merge"
      ]
    },
    {
      "metadata": {
        "id": "xPGW-YaTvJTc",
        "colab_type": "text"
      },
      "cell_type": "markdown",
      "source": [
        "## Install Modules and Import"
      ]
    },
    {
      "metadata": {
        "id": "C9m5SfFW34NU",
        "colab_type": "code",
        "colab": {}
      },
      "cell_type": "code",
      "source": [
        "!pip install ganga PyPDF2 pdfminer\n",
        "from PyPDF2 import PdfFileWriter, PdfFileReader\n",
        "import os\n",
        "import time"
      ],
      "execution_count": 0,
      "outputs": []
    },
    {
      "metadata": {
        "id": "455vvJ9qymAn",
        "colab_type": "text"
      },
      "cell_type": "markdown",
      "source": [
        "## Get Required Files"
      ]
    },
    {
      "metadata": {
        "id": "u9jw3bNryrzd",
        "colab_type": "code",
        "colab": {}
      },
      "cell_type": "code",
      "source": [
        "!wget https://bitbucket.org/radonys/ganga-assignment/raw/e41577b9480306ca66cfaddefceb6ca682098ba2/CERN.pdf\n",
        "!wget https://bitbucket.org/radonys/ganga-assignment/raw/e41577b9480306ca66cfaddefceb6ca682098ba2/execute.sh\n",
        "!wget https://bitbucket.org/radonys/ganga-assignment/raw/e41577b9480306ca66cfaddefceb6ca682098ba2/adder.py"
      ],
      "execution_count": 0,
      "outputs": []
    },
    {
      "metadata": {
        "id": "Cye5A-NavO0a",
        "colab_type": "text"
      },
      "cell_type": "markdown",
      "source": [
        "## PDF Split into Pages"
      ]
    },
    {
      "metadata": {
        "id": "fYWRedW47MO6",
        "colab_type": "code",
        "colab": {}
      },
      "cell_type": "code",
      "source": [
        "filepath = os.popen('pwd').read()\n",
        "filepath = filepath.split('\\n')\n",
        "filepath = filepath[0] + '/'\n",
        "arguments = []\n",
        "\n",
        "inputpdf = PdfFileReader(open(\"CERN.pdf\", \"rb\"))\n",
        "\n",
        "for i in range(inputpdf.numPages):\n",
        "    \n",
        "    output = PdfFileWriter()\n",
        "    output.addPage(inputpdf.getPage(i))\n",
        "    with open(\"page%s.pdf\" % str(i+1), \"wb\") as outputStream:\n",
        "        output.write(outputStream)\n",
        "\n",
        "    temp = []\n",
        "    temp_path = filepath + \"page\" + str(i+1) + \".pdf\"\n",
        "    temp.append(temp_path)\n",
        "    arguments.append(temp)\n",
        "    \n",
        "print(arguments)"
      ],
      "execution_count": 0,
      "outputs": []
    },
    {
      "metadata": {
        "id": "UClyShsfvWkb",
        "colab_type": "text"
      },
      "cell_type": "markdown",
      "source": [
        "## Commands to execute in Ganga Interface"
      ]
    },
    {
      "metadata": {
        "id": "SKBBP_0-vhqe",
        "colab_type": "text"
      },
      "cell_type": "markdown",
      "source": [
        "### Initiate and Submit the Job\n",
        "\n",
        "#### 1) Split the Individual pages into Subjobs by executing:\n",
        "\n",
        "```s = ArgSplitter(args=[['/content/page1.pdf'], ['/content/page2.pdf'], ['/content/page3.pdf'], ['/content/page4.pdf'], ['/content/page5.pdf'], ['/content/page6.pdf'], ['/content/page7.pdf'], ['/content/page8.pdf'], ['/content/page9.pdf'], ['/content/page10.pdf'], ['/content/page11.pdf'], ['/content/page12.pdf']])```\n",
        "\n",
        "#### 2) Create the Job Variable ```j```:\n",
        "\n",
        "```j = Job(splitter=s)```\n",
        "\n",
        "#### 3) Specify the Executable which counts the number of ```the```:\n",
        "\n",
        "```j.application.exe = File('/content/execute.sh')```\n",
        "\n",
        "#### 4) Finally, submit the Job ```j```:\n",
        "\n",
        "```j.submit()```\n",
        "\n",
        "#### 5) Press Enter 1-2 times to check whether the Job is completed or not.\n",
        "\n"
      ]
    },
    {
      "metadata": {
        "id": "Aoq-RvdEw5NN",
        "colab_type": "text"
      },
      "cell_type": "markdown",
      "source": [
        "### Obtain the sum of count from each SubJob\n",
        "\n",
        "#### 1) Initiate CustomMerger ```addmerger```:\n",
        "\n",
        "```addmerge = CustomMerger()```\n",
        "\n",
        "#### 2) Mention the Input File:\n",
        "\n",
        "```addmerge.files = ['stdout']```\n",
        "\n",
        "#### 3) Specify the Module File:\n",
        "\n",
        "```addmerge.module = File('/content/adder.py')```\n",
        "\n",
        "#### 4) Toggle the Parameters:\n",
        "\n",
        "```addmerge.ignorefailed = True```\n",
        "\n",
        "```addmerge.overwrite = False```\n",
        "\n",
        "#### 5) Finally Merge the SubJobs:\n",
        "\n",
        "```addmerge.merge(j.subjobs, '/content/')```"
      ]
    },
    {
      "metadata": {
        "id": "4hSBf5-ryQta",
        "colab_type": "text"
      },
      "cell_type": "markdown",
      "source": [
        "## Execute Ganga Commands"
      ]
    },
    {
      "metadata": {
        "id": "Q7TijSXmybrx",
        "colab_type": "code",
        "colab": {
          "base_uri": "https://localhost:8080/",
          "height": 2978
        },
        "outputId": "71958da5-f667-4cc3-8440-a0e990a76b82"
      },
      "cell_type": "code",
      "source": [
        "!ganga"
      ],
      "execution_count": 4,
      "outputs": [
        {
          "output_type": "stream",
          "text": [
            "\n",
            "*** Welcome to Ganga ***\n",
            "Version: 7.1.10\n",
            "Documentation and support: http://cern.ch/ganga\n",
            "Type help() or help('index') for online help.\n",
            "\n",
            "This is free software (GPL), and you are welcome to redistribute it\n",
            "under certain conditions; type license() for details.\n",
            "\n",
            "\n",
            "Would you like to create default config file ~/.gangarc with standard settings ([y]/n) ?\n",
            "y\n",
            "\u001b[0;0mINFO     Creating ganga config file /root/.gangarc\u001b[0;0m\n",
            "Press <Enter> to continue.\n",
            "\n",
            "\u001b[0;33mWARNING  Default location of IPython history files has changed.\u001b[0;0m\n",
            "\u001b[0;33mWARNING  Ganga will now try to copy your old settings from /root/.ipython to the new path /root/.ipython-ganga.                            If you do not want that, quit Ganga and wipe off the content of new path: rm -rf /root/.ipython-ganga/*\u001b[0;0m\n",
            "\n",
            "\u001b[?1l\u001b[6n\u001b[?2004h\u001b[?25l\u001b[0m\u001b[?7l\u001b[0m\u001b[J\u001b[0;38;5;21m[07:32:34]\u001b[0m\n",
            "\u001b[0;38;5;21mGanga In [\u001b[0;38;5;4;1m1\u001b[0;38;5;21m]: \u001b[14D\u001b[14C\u001b[?7h\u001b[0m\u001b[?12l\u001b[?25h\u001b[?25l\u001b[?7l\u001b[A\u001b[14D\u001b[0m\u001b[J\u001b[0;38;5;21m[07:32:38]\u001b[0m\n",
            "\u001b[79Cf\u001b[0m\n",
            "\u001b[79Cg\u001b[0m\n",
            "\u001b[79Ce\u001b[0m\n",
            "\u001b[79C\u001b[0m[\u001b[0m\n",
            "\u001b[0;38;5;21m         ...: \u001b[0;38;5;160;48;5;15m'/content/page11.pdf'\u001b[0m],\u001b[0m \u001b[0m[\u001b[0;38;5;160;48;5;15m'/content/page12.pdf'\u001b[0m]])\u001b[63D\u001b[0m\n",
            "\u001b[J\u001b[?7h\u001b[0m\u001b[?12l\u001b[?25h\u001b[?2004l\n",
            "\u001b[?1l\u001b[6n\u001b[?2004h\u001b[?25l\u001b[0m\u001b[?7l\u001b[0m\u001b[J\u001b[0;38;5;21m[07:32:38]\u001b[0m\n",
            "\u001b[0;38;5;21mGanga In [\u001b[0;38;5;4;1m2\u001b[0;38;5;21m]: \u001b[14D\u001b[14C\u001b[?7h\u001b[0m\u001b[?12l\u001b[?25h\u001b[?25l\u001b[?7l\u001b[?7h\u001b[0m\u001b[?12l\u001b[?25h\u001b[?25l\u001b[?7l\u001b[A\u001b[14D\u001b[0m\u001b[J\u001b[0;38;5;21m[07:32:49]\u001b[0m\n",
            "\u001b[0;38;5;21mGanga In [\u001b[0;38;5;4;1m2\u001b[0;38;5;21m]: \u001b[0mj\u001b[0m \u001b[0m=\u001b[0m \u001b[0mJob\u001b[0m(\u001b[0msplitter\u001b[0m=\u001b[0ms\u001b[0m)\u001b[33D\u001b[0m\n",
            "\u001b[J\u001b[?7h\u001b[0m\u001b[?12l\u001b[?25h\u001b[?2004l\n",
            "\u001b[?1l\u001b[6n\u001b[?2004h\u001b[?25l\u001b[0m\u001b[?7l\u001b[0m\u001b[J\u001b[0;38;5;21m[07:32:50]\u001b[0m\n",
            "\u001b[0;38;5;21mGanga In [\u001b[0;38;5;4;1m3\u001b[0;38;5;21m]: \u001b[14D\u001b[14C\u001b[?7h\u001b[0m\u001b[?12l\u001b[?25h\u001b[?25l\u001b[?7l\u001b[?7h\u001b[0m\u001b[?12l\u001b[?25h\u001b[?25l\u001b[?7l\u001b[A\u001b[14D\u001b[0m\u001b[J\u001b[0;38;5;21m[07:33:10]\u001b[0m\n",
            "\u001b[0;38;5;21mGanga In [\u001b[0;38;5;4;1m3\u001b[0;38;5;21m]: \u001b[0mj\u001b[0m.\u001b[0mapplication\u001b[0m.\u001b[0mexe\u001b[0m \u001b[0m=\u001b[0m \u001b[0mFile\u001b[0m(\u001b[0;38;5;160;48;5;15m'/content/execute.sh'\u001b[0m)\u001b[61D\u001b[0m\n",
            "\u001b[J\u001b[?7h\u001b[0m\u001b[?12l\u001b[?25h\u001b[?2004l\n",
            "\u001b[?1l\u001b[6n\u001b[?2004h\u001b[?25l\u001b[0m\u001b[?7l\u001b[0m\u001b[J\u001b[0;38;5;21m[07:33:10]\u001b[0m\n",
            "\u001b[0;38;5;21mGanga In [\u001b[0;38;5;4;1m4\u001b[0;38;5;21m]: \u001b[14D\u001b[14C\u001b[?7h\u001b[0m\u001b[?12l\u001b[?25h\u001b[?25l\u001b[?7l\u001b[?7h\u001b[0m\u001b[?12l\u001b[?25h\u001b[?25l\u001b[?7l\u001b[A\u001b[14D\u001b[0m\u001b[J\u001b[0;38;5;21m[07:33:20]\u001b[0m\n",
            "\u001b[0;38;5;21mGanga In [\u001b[0;38;5;4;1m4\u001b[0;38;5;21m]: \u001b[0mj\u001b[0m.\u001b[0msubmit\u001b[0m()\u001b[24D\u001b[0m\n",
            "\u001b[J\u001b[?7h\u001b[0m\u001b[?12l\u001b[?25h\u001b[?2004l\u001b[0;0mINFO     submitting job 0\u001b[0;0m\n",
            "\u001b[0;0mINFO     job 0 status changed to \"submitting\"\u001b[0;0m\n",
            "\u001b[0;0mINFO     Preparing Executable application.\u001b[0;0m\n",
            "\u001b[0;0mINFO     Created shared directory: conf-b779f521-57d6-457b-a9cf-2f3ec7c9ba24\u001b[0;0m\n",
            "\u001b[0;0mINFO     Splitting Job: 0\u001b[0;0m\n",
            "\u001b[0;0mINFO     submitting 12 subjobs\u001b[0;0m\n",
            "\u001b[0;0mINFO     Preparing subjobs\u001b[0;0m\n",
            "\u001b[0;0mINFO     Submitting a prepared application; taking any input files from conf-b779f521-57d6-457b-a9cf-2f3ec7c9ba24\u001b[0;0m\n",
            "\u001b[0;0mINFO     Submitting a prepared application; taking any input files from conf-b779f521-57d6-457b-a9cf-2f3ec7c9ba24\u001b[0;0m\n",
            "\u001b[0;0mINFO     Submitting a prepared application; taking any input files from conf-b779f521-57d6-457b-a9cf-2f3ec7c9ba24\u001b[0;0m\n",
            "\u001b[0;0mINFO     Submitting a prepared application; taking any input files from conf-b779f521-57d6-457b-a9cf-2f3ec7c9ba24\u001b[0;0m\n",
            "\u001b[0;0mINFO     Submitting a prepared application; taking any input files from conf-b779f521-57d6-457b-a9cf-2f3ec7c9ba24\u001b[0;0m\n",
            "\u001b[0;33mWARNING  file /root/gangadir/shared/root/conf-b779f521-57d6-457b-a9cf-2f3ec7c9ba24/execute.sh is not executable, overriding executable permissions in the input sandbox\u001b[0;0m\n",
            "\u001b[0;33mWARNING  file /root/gangadir/shared/root/conf-b779f521-57d6-457b-a9cf-2f3ec7c9ba24/execute.sh is not executable, overriding executable permissions in the input sandbox\u001b[0;0m\n",
            "\u001b[0;0mINFO     Submitting a prepared application; taking any input files from conf-b779f521-57d6-457b-a9cf-2f3ec7c9ba24\u001b[0;0m\n",
            "\u001b[0;33mWARNING  file /root/gangadir/shared/root/conf-b779f521-57d6-457b-a9cf-2f3ec7c9ba24/execute.sh is not executable, overriding executable permissions in the input sandbox\u001b[0;0m\n",
            "\u001b[0;33mWARNING  file /root/gangadir/shared/root/conf-b779f521-57d6-457b-a9cf-2f3ec7c9ba24/execute.sh is not executable, overriding executable permissions in the input sandbox\u001b[0;0m\n",
            "\u001b[0;0mINFO     Submitting a prepared application; taking any input files from conf-b779f521-57d6-457b-a9cf-2f3ec7c9ba24\u001b[0;0m\n",
            "\u001b[0;33mWARNING  file /root/gangadir/shared/root/conf-b779f521-57d6-457b-a9cf-2f3ec7c9ba24/execute.sh is not executable, overriding executable permissions in the input sandbox\u001b[0;0m\n",
            "\u001b[0;0mINFO     Submitting a prepared application; taking any input files from conf-b779f521-57d6-457b-a9cf-2f3ec7c9ba24\u001b[0;0m\n",
            "\u001b[0;0mINFO     Submitting a prepared application; taking any input files from conf-b779f521-57d6-457b-a9cf-2f3ec7c9ba24\u001b[0;0m\n",
            "\u001b[0;0mINFO     Submitting a prepared application; taking any input files from conf-b779f521-57d6-457b-a9cf-2f3ec7c9ba24\u001b[0;0m\n",
            "\u001b[0;33mWARNING  file /root/gangadir/shared/root/conf-b779f521-57d6-457b-a9cf-2f3ec7c9ba24/execute.sh is not executable, overriding executable permissions in the input sandbox\u001b[0;0m\n",
            "\u001b[0;33mWARNING  file /root/gangadir/shared/root/conf-b779f521-57d6-457b-a9cf-2f3ec7c9ba24/execute.sh is not executable, overriding executable permissions in the input sandbox\u001b[0;0m\n",
            "\u001b[0;0mINFO     Submitting a prepared application; taking any input files from conf-b779f521-57d6-457b-a9cf-2f3ec7c9ba24\u001b[0;0m\n",
            "\u001b[0;0mINFO     Submitting a prepared application; taking any input files from conf-b779f521-57d6-457b-a9cf-2f3ec7c9ba24\u001b[0;0m\n",
            "\u001b[0;33mWARNING  file /root/gangadir/shared/root/conf-b779f521-57d6-457b-a9cf-2f3ec7c9ba24/execute.sh is not executable, overriding executable permissions in the input sandbox\u001b[0;0m\n",
            "\u001b[0;33mWARNING  file /root/gangadir/shared/root/conf-b779f521-57d6-457b-a9cf-2f3ec7c9ba24/execute.sh is not executable, overriding executable permissions in the input sandbox\u001b[0;0m\n",
            "\u001b[0;33mWARNING  file /root/gangadir/shared/root/conf-b779f521-57d6-457b-a9cf-2f3ec7c9ba24/execute.sh is not executable, overriding executable permissions in the input sandbox\u001b[0;0m\n",
            "\u001b[0;33mWARNING  file /root/gangadir/shared/root/conf-b779f521-57d6-457b-a9cf-2f3ec7c9ba24/execute.sh is not executable, overriding executable permissions in the input sandbox\u001b[0;0m\n",
            "\u001b[0;33mWARNING  file /root/gangadir/shared/root/conf-b779f521-57d6-457b-a9cf-2f3ec7c9ba24/execute.sh is not executable, overriding executable permissions in the input sandbox\u001b[0;0m\n",
            "\u001b[0;0mINFO     submitting job 0.0 to Local backend\u001b[0;0m\n",
            "\u001b[0;0mINFO     job 0 status changed to \"submitted\"\u001b[0;0m\n",
            "\u001b[0;0mINFO     submitting job 0.1 to Local backend\u001b[0;0m\n",
            "\u001b[0;0mINFO     job 0 status changed to \"submitting\"\u001b[0;0m\n",
            "\u001b[0;0mINFO     job 0 status changed to \"submitted\"\u001b[0;0m\n",
            "\u001b[0;0mINFO     submitting job 0.2 to Local backend\u001b[0;0m\n",
            "\u001b[0;0mINFO     job 0 status changed to \"submitting\"\u001b[0;0m\n",
            "\u001b[0;0mINFO     job 0 status changed to \"submitted\"\u001b[0;0m\n",
            "\u001b[0;0mINFO     submitting job 0.3 to Local backend\u001b[0;0m\n",
            "\u001b[0;0mINFO     job 0 status changed to \"submitting\"\u001b[0;0m\n",
            "\u001b[0;0mINFO     job 0 status changed to \"submitted\"\u001b[0;0m\n",
            "\u001b[0;0mINFO     submitting job 0.4 to Local backend\u001b[0;0m\n",
            "\u001b[0;0mINFO     job 0 status changed to \"submitting\"\u001b[0;0m\n",
            "\u001b[0;0mINFO     job 0 status changed to \"submitted\"\u001b[0;0m\n",
            "\u001b[0;0mINFO     submitting job 0.5 to Local backend\u001b[0;0m\n",
            "\u001b[0;0mINFO     job 0 status changed to \"submitting\"\u001b[0;0m\n",
            "\u001b[0;0mINFO     job 0 status changed to \"submitted\"\u001b[0;0m\n",
            "\u001b[0;0mINFO     submitting job 0.6 to Local backend\u001b[0;0m\n",
            "\u001b[0;0mINFO     job 0 status changed to \"submitting\"\u001b[0;0m\n",
            "\u001b[0;0mINFO     job 0 status changed to \"submitted\"\u001b[0;0m\n",
            "\u001b[0;0mINFO     submitting job 0.7 to Local backend\u001b[0;0m\n",
            "\u001b[0;0mINFO     job 0 status changed to \"submitting\"\u001b[0;0m\n",
            "\u001b[0;0mINFO     job 0 status changed to \"submitted\"\u001b[0;0m\n",
            "\u001b[0;0mINFO     submitting job 0.8 to Local backend\u001b[0;0m\n",
            "\u001b[0;0mINFO     job 0 status changed to \"submitting\"\u001b[0;0m\n",
            "\u001b[0;0mINFO     job 0 status changed to \"submitted\"\u001b[0;0m\n",
            "\u001b[0;0mINFO     submitting job 0.9 to Local backend\u001b[0;0m\n",
            "\u001b[0;0mINFO     job 0 status changed to \"submitting\"\u001b[0;0m\n",
            "\u001b[0;0mINFO     job 0 status changed to \"submitted\"\u001b[0;0m\n",
            "\u001b[0;0mINFO     submitting job 0.10 to Local backend\u001b[0;0m\n",
            "\u001b[0;0mINFO     job 0 status changed to \"submitting\"\u001b[0;0m\n",
            "\u001b[0;0mINFO     job 0 status changed to \"submitted\"\u001b[0;0m\n",
            "\u001b[0;0mINFO     submitting job 0.11 to Local backend\u001b[0;0m\n",
            "\u001b[0;0mINFO     job 0 status changed to \"submitting\"\u001b[0;0m\n",
            "\u001b[0;0mINFO     job 0 status changed to \"submitted\"\u001b[0;0m\n",
            "\u001b[0m\u001b[?7h\u001b[0;38;5;1mGanga Out [4]: \u001b[0m1\n",
            "\n",
            "\u001b[?1l\u001b[6n\u001b[?2004h\u001b[?25l\u001b[0m\u001b[?7l\u001b[0m\u001b[J\u001b[0;38;5;21m[07:33:21]\u001b[0m\n",
            "\u001b[0;38;5;21mGanga In [\u001b[0;38;5;4;1m5\u001b[0;38;5;21m]: \u001b[14D\u001b[14C\u001b[?7h\u001b[0m\u001b[?12l\u001b[?25h\u001b[?25l\u001b[?7l\u001b[?7h\u001b[0m\u001b[?12l\u001b[?25h\u001b[0;0mINFO     job 0 status changed to \"running\"\u001b[0;0m\n",
            "\u001b[0;0mINFO     removing: /tmp/tmpv0d5o9\u001b[0;0m\n",
            "\u001b[0;0mINFO     removing: /tmp/tmpC2J0YA\u001b[0;0m\n",
            "\u001b[0;0mINFO     removing: /tmp/tmpgbXPy5\u001b[0;0m\n",
            "\u001b[?25l\u001b[?7l\u001b[A\u001b[14D\u001b[0m\u001b[J\u001b[0;38;5;21m[07:33:25]\u001b[0m\n",
            "\u001b[0;38;5;21mGanga In [\u001b[0;38;5;4;1m5\u001b[0;38;5;21m]: \u001b[14D\u001b[0m\n",
            "\u001b[J\u001b[?7h\u001b[0m\u001b[?12l\u001b[?25h\u001b[?2004l\n",
            "\u001b[?1l\u001b[6n\u001b[?2004h\u001b[?25l\u001b[0m\u001b[?7l\u001b[0m\u001b[J\u001b[0;38;5;21m[07:33:25]\u001b[0m\n",
            "\u001b[0;38;5;21mGanga In [\u001b[0;38;5;4;1m5\u001b[0;38;5;21m]: \u001b[14D\u001b[14C\u001b[?7h\u001b[0m\u001b[?12l\u001b[?25h\u001b[?25l\u001b[?7l\u001b[?7h\u001b[0m\u001b[?12l\u001b[?25h\u001b[0;0mINFO     removing: /tmp/tmp1ABuP5\u001b[0;0m\n",
            "\u001b[0;0mINFO     removing: /tmp/tmpyO6nsV\u001b[0;0m\n",
            "\u001b[0;0mINFO     removing: /tmp/tmp4oHZZZ\u001b[0;0m\n",
            "\u001b[0;0mINFO     removing: /tmp/tmpquyIsf\u001b[0;0m\n",
            "\u001b[0;0mINFO     removing: /tmp/tmpCv7chV\u001b[0;0m\n",
            "\u001b[0;0mINFO     removing: /tmp/tmpgWpqnF\u001b[0;0m\n",
            "\u001b[0;0mINFO     removing: /tmp/tmplRLoAl\u001b[0;0m\n",
            "\u001b[0;0mINFO     removing: /tmp/tmpaoPaAZ\u001b[0;0m\n",
            "\u001b[0;0mINFO     Job 0 Running PostProcessor hook\u001b[0;0m\n",
            "\u001b[0;0mINFO     job 0 status changed to \"completed\"\u001b[0;0m\n",
            "\u001b[0;0mINFO     removing: /tmp/tmpnZ34jn\u001b[0;0m\n",
            "\u001b[?25l\u001b[?7l\u001b[A\u001b[14D\u001b[0m\u001b[J\u001b[0;38;5;21m[07:33:28]\u001b[0m\n",
            "\u001b[0;38;5;21mGanga In [\u001b[0;38;5;4;1m5\u001b[0;38;5;21m]: \u001b[14D\u001b[0m\n",
            "\u001b[J\u001b[?7h\u001b[0m\u001b[?12l\u001b[?25h\u001b[?2004l\n",
            "\u001b[?1l\u001b[6n\u001b[?2004h\u001b[?25l\u001b[0m\u001b[?7l\u001b[0m\u001b[J\u001b[0;38;5;21m[07:33:28]\u001b[0m\n",
            "\u001b[0;38;5;21mGanga In [\u001b[0;38;5;4;1m5\u001b[0;38;5;21m]: \u001b[14D\u001b[14C\u001b[?7h\u001b[0m\u001b[?12l\u001b[?25h\u001b[?25l\u001b[?7l\u001b[?7h\u001b[0m\u001b[?12l\u001b[?25h\u001b[?25l\u001b[?7l\u001b[A\u001b[14D\u001b[0m\u001b[J\u001b[0;38;5;21m[07:33:39]\u001b[0m\n",
            "\u001b[0;38;5;21mGanga In [\u001b[0;38;5;4;1m5\u001b[0;38;5;21m]: \u001b[0maddmerge\u001b[0m \u001b[0m=\u001b[0m \u001b[0mCustomMerger\u001b[0m()\u001b[39D\u001b[0m\n",
            "\u001b[J\u001b[?7h\u001b[0m\u001b[?12l\u001b[?25h\u001b[?2004l\n",
            "\u001b[?1l\u001b[6n\u001b[?2004h\u001b[?25l\u001b[0m\u001b[?7l\u001b[0m\u001b[J\u001b[0;38;5;21m[07:33:39]\u001b[0m\n",
            "\u001b[0;38;5;21mGanga In [\u001b[0;38;5;4;1m6\u001b[0;38;5;21m]: \u001b[14D\u001b[14C\u001b[?7h\u001b[0m\u001b[?12l\u001b[?25h\u001b[?25l\u001b[?7l\u001b[?7h\u001b[0m\u001b[?12l\u001b[?25h\u001b[?25l\u001b[?7l\u001b[A\u001b[14D\u001b[0m\u001b[J\u001b[0;38;5;21m[07:33:56]\u001b[0m\n",
            "\u001b[0;38;5;21mGanga In [\u001b[0;38;5;4;1m6\u001b[0;38;5;21m]: \u001b[0maddmerge\u001b[0m.\u001b[0mfiles\u001b[0m \u001b[0m=\u001b[0m \u001b[0m[\u001b[0;38;5;160;48;5;15m'stdout'\u001b[0m]\u001b[41D\u001b[0m\n",
            "\u001b[J\u001b[?7h\u001b[0m\u001b[?12l\u001b[?25h\u001b[?2004l\n",
            "\u001b[?1l\u001b[6n\u001b[?2004h\u001b[?25l\u001b[0m\u001b[?7l\u001b[0m\u001b[J\u001b[0;38;5;21m[07:33:56]\u001b[0m\n",
            "\u001b[0;38;5;21mGanga In [\u001b[0;38;5;4;1m7\u001b[0;38;5;21m]: \u001b[14D\u001b[14C\u001b[?7h\u001b[0m\u001b[?12l\u001b[?25h\u001b[?25l\u001b[?7l\u001b[?7h\u001b[0m\u001b[?12l\u001b[?25h\u001b[?25l\u001b[?7l\u001b[A\u001b[14D\u001b[0m\u001b[J\u001b[0;38;5;21m[07:34:07]\u001b[0m\n",
            "\u001b[0;38;5;21mGanga In [\u001b[0;38;5;4;1m7\u001b[0;38;5;21m]: \u001b[0maddmerge\u001b[0m.\u001b[0mmodule\u001b[0m \u001b[0m=\u001b[0m \u001b[0mFile\u001b[0m(\u001b[0;38;5;160;48;5;15m'/content/adder.py'\u001b[0m)\u001b[57D\u001b[0m\n",
            "\u001b[J\u001b[?7h\u001b[0m\u001b[?12l\u001b[?25h\u001b[?2004l\n",
            "\u001b[?1l\u001b[6n\u001b[?2004h\u001b[?25l\u001b[0m\u001b[?7l\u001b[0m\u001b[J\u001b[0;38;5;21m[07:34:07]\u001b[0m\n",
            "\u001b[0;38;5;21mGanga In [\u001b[0;38;5;4;1m8\u001b[0;38;5;21m]: \u001b[14D\u001b[14C\u001b[?7h\u001b[0m\u001b[?12l\u001b[?25h\u001b[?25l\u001b[?7l\u001b[?7h\u001b[0m\u001b[?12l\u001b[?25h\u001b[?25l\u001b[?7l\u001b[A\u001b[14D\u001b[0m\u001b[J\u001b[0;38;5;21m[07:34:19]\u001b[0m\n",
            "\u001b[0;38;5;21mGanga In [\u001b[0;38;5;4;1m8\u001b[0;38;5;21m]: \u001b[0maddmerge\u001b[0m.\u001b[0mignorefailed\u001b[0m \u001b[0m=\u001b[0m \u001b[0;38;5;24mTrue\u001b[42D\u001b[0m\n",
            "\u001b[J\u001b[?7h\u001b[0m\u001b[?12l\u001b[?25h\u001b[?2004l\n",
            "\u001b[?1l\u001b[6n\u001b[?2004h\u001b[?25l\u001b[0m\u001b[?7l\u001b[0m\u001b[J\u001b[0;38;5;21m[07:34:19]\u001b[0m\n",
            "\u001b[0;38;5;21mGanga In [\u001b[0;38;5;4;1m9\u001b[0;38;5;21m]: \u001b[14D\u001b[14C\u001b[?7h\u001b[0m\u001b[?12l\u001b[?25h\u001b[?25l\u001b[?7l\u001b[?7h\u001b[0m\u001b[?12l\u001b[?25h\u001b[?25l\u001b[?7l\u001b[A\u001b[14D\u001b[0m\u001b[J\u001b[0;38;5;21m[07:34:28]\u001b[0m\n",
            "\u001b[0;38;5;21mGanga In [\u001b[0;38;5;4;1m9\u001b[0;38;5;21m]: \u001b[0maddmerge\u001b[0m.\u001b[0moverwrite\u001b[0m \u001b[0m=\u001b[0m \u001b[0;38;5;24mFalse\u001b[40D\u001b[0m\n",
            "\u001b[J\u001b[?7h\u001b[0m\u001b[?12l\u001b[?25h\u001b[?2004l\n",
            "\u001b[?1l\u001b[6n\u001b[?2004h\u001b[?25l\u001b[0m\u001b[?7l\u001b[0m\u001b[J\u001b[0;38;5;21m[07:34:28]\u001b[0m\n",
            "\u001b[0;38;5;21mGanga In [\u001b[0;38;5;4;1m10\u001b[0;38;5;21m]: \u001b[15D\u001b[15C\u001b[?7h\u001b[0m\u001b[?12l\u001b[?25h\u001b[?25l\u001b[?7l\u001b[?7h\u001b[0m\u001b[?12l\u001b[?25h\u001b[?25l\u001b[?7l\u001b[A\u001b[15D\u001b[0m\u001b[J\u001b[0;38;5;21m[07:34:41]\u001b[0m\n",
            "\u001b[0;38;5;21mGanga In [\u001b[0;38;5;4;1m10\u001b[0;38;5;21m]: \u001b[0maddmerge\u001b[0m.\u001b[0mmerge\u001b[0m(\u001b[0mj\u001b[0m.\u001b[0msubjobs\u001b[0m,\u001b[0m \u001b[0;38;5;160;48;5;15m'/content/'\u001b[0m)\u001b[53D\u001b[0m\n",
            "\u001b[J\u001b[?7h\u001b[0m\u001b[?12l\u001b[?25h\u001b[?2004l17\n",
            "62\n",
            "74\n",
            "62\n",
            "2\n",
            "5\n",
            "6\n",
            "3\n",
            "48\n",
            "17\n",
            "7\n",
            "10\n",
            "\u001b[0m\u001b[?7h\u001b[0;38;5;1mGanga Out [10]: \u001b[0mTrue\n",
            "\n",
            "\u001b[?1l\u001b[6n\u001b[?2004h\u001b[?25l\u001b[0m\u001b[?7l\u001b[0m\u001b[J\u001b[0;38;5;21m[07:34:41]\u001b[0m\n",
            "\u001b[0;38;5;21mGanga In [\u001b[0;38;5;4;1m11\u001b[0;38;5;21m]: \u001b[15D\u001b[15C\u001b[?7h\u001b[0m\u001b[?12l\u001b[?25h\u001b[?25l\u001b[?7l\u001b[?7h\u001b[0m\u001b[?12l\u001b[?25h\u001b[?25l\u001b[?7l\u001b[A\u001b[15D\u001b[0m\u001b[J\u001b[0;38;5;21m[07:34:52]\u001b[0m\n",
            "\u001b[0;38;5;21mGanga In [\u001b[0;38;5;4;1m11\u001b[0;38;5;21m]: \u001b[0mquit\u001b[19D\u001b[0m\n",
            "\u001b[J\u001b[?7h\u001b[0m\u001b[?12l\u001b[?25h\u001b[?2004l\n",
            "\u001b[0;0mINFO     Stopping the monitoring component...\u001b[0;0m\n",
            "\u001b[0;0mINFO     Stopping Job processing before shutting down Repositories\u001b[0;0m\n",
            "\u001b[0;0mINFO     Shutting Down Ganga Repositories\u001b[0;0m\n",
            "\u001b[0;0mINFO     Registry Shutdown\u001b[0;0m\n"
          ],
          "name": "stdout"
        }
      ]
    },
    {
      "metadata": {
        "id": "i_QsISDuz6NW",
        "colab_type": "text"
      },
      "cell_type": "markdown",
      "source": [
        "## Now, Download the ```stdout``` file to check the sum"
      ]
    },
    {
      "metadata": {
        "id": "nHr_pPFbICY-",
        "colab_type": "code",
        "colab": {
          "base_uri": "https://localhost:8080/",
          "height": 34
        },
        "outputId": "5d7501f1-a2e9-4c1f-8a63-6ef98285cc45"
      },
      "cell_type": "code",
      "source": [
        "!cat stdout"
      ],
      "execution_count": 5,
      "outputs": [
        {
          "output_type": "stream",
          "text": [
            "313"
          ],
          "name": "stdout"
        }
      ]
    }
  ]
}