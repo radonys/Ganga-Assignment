{
  "nbformat": 4,
  "nbformat_minor": 0,
  "metadata": {
    "colab": {
      "name": "Ganga_File_Split.ipynb",
      "version": "0.3.2",
      "provenance": [],
      "collapsed_sections": [],
      "include_colab_link": true
    },
    "kernelspec": {
      "name": "python2",
      "display_name": "Python 2"
    }
  },
  "cells": [
    {
      "cell_type": "markdown",
      "metadata": {
        "id": "view-in-github",
        "colab_type": "text"
      },
      "source": [
        "<a href=\"https://colab.research.google.com/github/radonys/Ganga-Assignment/blob/master/Task/Ganga_File_Split.ipynb\" target=\"_parent\"><img src=\"https://colab.research.google.com/assets/colab-badge.svg\" alt=\"Open In Colab\"/></a>"
      ]
    },
    {
      "metadata": {
        "id": "gv8zXbLkvDvV",
        "colab_type": "text"
      },
      "cell_type": "markdown",
      "source": [
        "# Ganga File Split and Merge"
      ]
    },
    {
      "metadata": {
        "id": "xPGW-YaTvJTc",
        "colab_type": "text"
      },
      "cell_type": "markdown",
      "source": [
        "## Install Modules and Import"
      ]
    },
    {
      "metadata": {
        "id": "C9m5SfFW34NU",
        "colab_type": "code",
        "colab": {}
      },
      "cell_type": "code",
      "source": [
        "!pip install ganga PyPDF2 pdfminer\n",
        "from PyPDF2 import PdfFileWriter, PdfFileReader\n",
        "import os\n",
        "import time"
      ],
      "execution_count": 0,
      "outputs": []
    },
    {
      "metadata": {
        "id": "455vvJ9qymAn",
        "colab_type": "text"
      },
      "cell_type": "markdown",
      "source": [
        "## Get Required Files"
      ]
    },
    {
      "metadata": {
        "id": "u9jw3bNryrzd",
        "colab_type": "code",
        "colab": {}
      },
      "cell_type": "code",
      "source": [
        "!wget https://bitbucket.org/radonys/ganga-assignment/raw/e41577b9480306ca66cfaddefceb6ca682098ba2/CERN.pdf\n",
        "!wget https://bitbucket.org/radonys/ganga-assignment/raw/e41577b9480306ca66cfaddefceb6ca682098ba2/execute.sh\n",
        "!wget https://bitbucket.org/radonys/ganga-assignment/raw/e41577b9480306ca66cfaddefceb6ca682098ba2/adder.py"
      ],
      "execution_count": 0,
      "outputs": []
    },
    {
      "metadata": {
        "id": "Cye5A-NavO0a",
        "colab_type": "text"
      },
      "cell_type": "markdown",
      "source": [
        "## PDF Split into Pages"
      ]
    },
    {
      "metadata": {
        "id": "fYWRedW47MO6",
        "colab_type": "code",
        "colab": {}
      },
      "cell_type": "code",
      "source": [
        "filepath = os.popen('pwd').read()\n",
        "filepath = filepath.split('\\n')\n",
        "filepath = filepath[0] + '/'\n",
        "arguments = []\n",
        "\n",
        "inputpdf = PdfFileReader(open(\"CERN.pdf\", \"rb\"))\n",
        "\n",
        "for i in range(inputpdf.numPages):\n",
        "    \n",
        "    output = PdfFileWriter()\n",
        "    output.addPage(inputpdf.getPage(i))\n",
        "    with open(\"page%s.pdf\" % str(i+1), \"wb\") as outputStream:\n",
        "        output.write(outputStream)\n",
        "\n",
        "    temp = []\n",
        "    temp_path = filepath + \"page\" + str(i+1) + \".pdf\"\n",
        "    temp.append(temp_path)\n",
        "    arguments.append(temp)\n",
        "    \n",
        "print(arguments)"
      ],
      "execution_count": 0,
      "outputs": []
    },
    {
      "metadata": {
        "id": "UClyShsfvWkb",
        "colab_type": "text"
      },
      "cell_type": "markdown",
      "source": [
        "## Commands to execute in Ganga Interface"
      ]
    },
    {
      "metadata": {
        "id": "SKBBP_0-vhqe",
        "colab_type": "text"
      },
      "cell_type": "markdown",
      "source": [
        "### Initiate and Submit the Job\n",
        "\n",
        "#### 1) Split the Individual pages into Subjobs by executing:\n",
        "\n",
        "```s = ArgSplitter(args=[['/content/page1.pdf'], ['/content/page2.pdf'], ['/content/page3.pdf'], ['/content/page4.pdf'], ['/content/page5.pdf'], ['/content/page6.pdf'], ['/content/page7.pdf'], ['/content/page8.pdf'], ['/content/page9.pdf'], ['/content/page10.pdf'], ['/content/page11.pdf'], ['/content/page12.pdf']])```\n",
        "\n",
        "#### 2) Create the Job Variable ```j```:\n",
        "\n",
        "```j = Job(splitter=s)```\n",
        "\n",
        "#### 3) Specify the Executable which counts the number of ```the```:\n",
        "\n",
        "```j.application.exe = File('/content/execute.sh')```\n",
        "\n",
        "#### 4) Finally, submit the Job ```j```:\n",
        "\n",
        "```j.submit()```\n",
        "\n",
        "#### 5) Press Enter 1-2 times to check whether the Job is completed or not.\n",
        "\n"
      ]
    },
    {
      "metadata": {
        "id": "Aoq-RvdEw5NN",
        "colab_type": "text"
      },
      "cell_type": "markdown",
      "source": [
        "### Obtain the sum of count from each SubJob\n",
        "\n",
        "#### 1) Initiate CustomMerger ```addmerger```:\n",
        "\n",
        "```addmerge = CustomMerger()```\n",
        "\n",
        "#### 2) Mention the Input File:\n",
        "\n",
        "```addmerge.files = ['stdout']```\n",
        "\n",
        "#### 3) Specify the Module File:\n",
        "\n",
        "```addmerge.module = File('/content/adder.py')```\n",
        "\n",
        "#### 4) Toggle the Parameters:\n",
        "\n",
        "```addmerge.ignorefailed = True```\n",
        "\n",
        "```addmerge.overwrite = False```\n",
        "\n",
        "#### 5) Finally Merge the SubJobs:\n",
        "\n",
        "```addmerge.merge(j.subjobs, '/content/')```"
      ]
    },
    {
      "metadata": {
        "id": "4hSBf5-ryQta",
        "colab_type": "text"
      },
      "cell_type": "markdown",
      "source": [
        "## Execute Ganga Commands"
      ]
    },
    {
      "metadata": {
        "id": "Q7TijSXmybrx",
        "colab_type": "code",
        "colab": {}
      },
      "cell_type": "code",
      "source": [
        "!ganga"
      ],
      "execution_count": 0,
      "outputs": []
    },
    {
      "metadata": {
        "id": "i_QsISDuz6NW",
        "colab_type": "text"
      },
      "cell_type": "markdown",
      "source": [
        "## Now, Download the ```stdout``` file to check the sum"
      ]
    }
  ]
}