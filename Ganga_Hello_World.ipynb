{
  "nbformat": 4,
  "nbformat_minor": 0,
  "metadata": {
    "colab": {
      "name": "Ganga Hello_World.ipynb",
      "version": "0.3.2",
      "provenance": [],
      "collapsed_sections": [],
      "include_colab_link": true
    },
    "kernelspec": {
      "name": "python2",
      "display_name": "Python 2"
    }
  },
  "cells": [
    {
      "cell_type": "markdown",
      "metadata": {
        "id": "view-in-github",
        "colab_type": "text"
      },
      "source": [
        "<a href=\"https://colab.research.google.com/github/radonys/Ganga-Assignment/blob/master/Ganga_Hello_World.ipynb\" target=\"_parent\"><img src=\"https://colab.research.google.com/assets/colab-badge.svg\" alt=\"Open In Colab\"/></a>"
      ]
    },
    {
      "metadata": {
        "id": "C9m5SfFW34NU",
        "colab_type": "code",
        "colab": {}
      },
      "cell_type": "code",
      "source": [
        "!pip install ganga"
      ],
      "execution_count": 0,
      "outputs": []
    },
    {
      "metadata": {
        "id": "u9Hh8e6Q3-Fl",
        "colab_type": "code",
        "outputId": "05539593-369e-489e-f65f-dd8df56f2b34",
        "colab": {
          "base_uri": "https://localhost:8080/",
          "height": 1040
        }
      },
      "cell_type": "code",
      "source": [
        "!ganga"
      ],
      "execution_count": 2,
      "outputs": [
        {
          "output_type": "stream",
          "text": [
            "\n",
            "*** Welcome to Ganga ***\n",
            "Version: 7.1.10\n",
            "Documentation and support: http://cern.ch/ganga\n",
            "Type help() or help('index') for online help.\n",
            "\n",
            "This is free software (GPL), and you are welcome to redistribute it\n",
            "under certain conditions; type license() for details.\n",
            "\n",
            "\n",
            "Would you like to create default config file ~/.gangarc with standard settings ([y]/n) ?\n",
            "y\n",
            "\u001b[0;0mINFO     Creating ganga config file /root/.gangarc\u001b[0;0m\n",
            "Press <Enter> to continue.\n",
            "\n",
            "\u001b[0;33mWARNING  Default location of IPython history files has changed.\u001b[0;0m\n",
            "\u001b[0;33mWARNING  Ganga will now try to copy your old settings from /root/.ipython to the new path /root/.ipython-ganga.                            If you do not want that, quit Ganga and wipe off the content of new path: rm -rf /root/.ipython-ganga/*\u001b[0;0m\n",
            "\n",
            "\u001b[?1l\u001b[6n\u001b[?2004h\u001b[?25l\u001b[0m\u001b[?7l\u001b[0m\u001b[J\u001b[0;38;5;21m[16:23:18]\u001b[0m\n",
            "\u001b[0;38;5;21mGanga In [\u001b[0;38;5;4;1m1\u001b[0;38;5;21m]: \u001b[14D\u001b[14C\u001b[?7h\u001b[0m\u001b[?12l\u001b[?25h\u001b[?25l\u001b[?7l\u001b[A\u001b[14D\u001b[0m\u001b[J\u001b[0;38;5;21m[16:23:33]\u001b[0m\n",
            "\u001b[0;38;5;21mGanga In [\u001b[0;38;5;4;1m1\u001b[0;38;5;21m]: \u001b[0mj\u001b[0m \u001b[0m=\u001b[0m \u001b[0mJob\u001b[0m()\u001b[23D\u001b[0m\n",
            "\u001b[J\u001b[?7h\u001b[0m\u001b[?12l\u001b[?25h\u001b[?2004l\n",
            "\u001b[?1l\u001b[6n\u001b[?2004h\u001b[?25l\u001b[0m\u001b[?7l\u001b[0m\u001b[J\u001b[0;38;5;21m[16:23:33]\u001b[0m\n",
            "\u001b[0;38;5;21mGanga In [\u001b[0;38;5;4;1m2\u001b[0;38;5;21m]: \u001b[14D\u001b[14C\u001b[?7h\u001b[0m\u001b[?12l\u001b[?25h\u001b[?25l\u001b[?7l\u001b[?7h\u001b[0m\u001b[?12l\u001b[?25h\u001b[?25l\u001b[?7l\u001b[A\u001b[14D\u001b[0m\u001b[J\u001b[0;38;5;21m[16:23:43]\u001b[0m\n",
            "\u001b[0;38;5;21mGanga In [\u001b[0;38;5;4;1m2\u001b[0;38;5;21m]: \u001b[0mj\u001b[0m.\u001b[0msubmit\u001b[0m()\u001b[24D\u001b[0m\n",
            "\u001b[J\u001b[?7h\u001b[0m\u001b[?12l\u001b[?25h\u001b[?2004l\u001b[0;0mINFO     submitting job 0\u001b[0;0m\n",
            "\u001b[0;0mINFO     job 0 status changed to \"submitting\"\u001b[0;0m\n",
            "\u001b[0;0mINFO     Preparing Executable application.\u001b[0;0m\n",
            "\u001b[0;0mINFO     Created shared directory: conf-cc531c8f-ea55-4d2c-b162-f0cb5a4adbf3\u001b[0;0m\n",
            "\u001b[0;0mINFO     Preparing subjobs\u001b[0;0m\n",
            "\u001b[0;0mINFO     submitting job 0 to Local backend\u001b[0;0m\n",
            "\u001b[0;0mINFO     job 0 status changed to \"submitted\"\u001b[0;0m\n",
            "\u001b[0m\u001b[?7h\u001b[0;38;5;1mGanga Out [2]: \u001b[0m1\n",
            "\n",
            "\u001b[?1l\u001b[6n\u001b[?2004h\u001b[?25l\u001b[0m\u001b[?7l\u001b[0m\u001b[J\u001b[0;38;5;21m[16:23:43]\u001b[0m\n",
            "\u001b[0;38;5;21mGanga In [\u001b[0;38;5;4;1m3\u001b[0;38;5;21m]: \u001b[14D\u001b[14C\u001b[?7h\u001b[0m\u001b[?12l\u001b[?25h\u001b[?25l\u001b[?7l\u001b[?7h\u001b[0m\u001b[?12l\u001b[?25h\u001b[0;0mINFO     job 0 status changed to \"running\"\u001b[0;0m\n",
            "\u001b[0;0mINFO     Job 0 Running PostProcessor hook\u001b[0;0m\n",
            "\u001b[0;0mINFO     job 0 status changed to \"completed\"\u001b[0;0m\n",
            "\u001b[0;0mINFO     removing: /tmp/tmpuAZzKW\u001b[0;0m\n",
            "\u001b[?25l\u001b[?7l\u001b[A\u001b[14D\u001b[0m\u001b[J\u001b[0;38;5;21m[16:23:51]\u001b[0m\n",
            "\u001b[0;38;5;21mGanga In [\u001b[0;38;5;4;1m3\u001b[0;38;5;21m]: \u001b[14D\u001b[0m\n",
            "\u001b[J\u001b[?7h\u001b[0m\u001b[?12l\u001b[?25h\u001b[?2004l\n",
            "\u001b[?1l\u001b[6n\u001b[?2004h\u001b[?25l\u001b[0m\u001b[?7l\u001b[0m\u001b[J\u001b[0;38;5;21m[16:23:51]\u001b[0m\n",
            "\u001b[0;38;5;21mGanga In [\u001b[0;38;5;4;1m3\u001b[0;38;5;21m]: \u001b[14D\u001b[14C\u001b[?7h\u001b[0m\u001b[?12l\u001b[?25h\u001b[?25l\u001b[?7l\u001b[?7h\u001b[0m\u001b[?12l\u001b[?25h\u001b[?25l\u001b[?7l\u001b[A\u001b[14D\u001b[0m\u001b[J\u001b[0;38;5;21m[16:23:57]\u001b[0m\n",
            "\u001b[0;38;5;21mGanga In [\u001b[0;38;5;4;1m3\u001b[0;38;5;21m]: \u001b[14D\u001b[0m\n",
            "\u001b[J\u001b[?7h\u001b[0m\u001b[?12l\u001b[?25h\u001b[?2004l\n",
            "\u001b[?1l\u001b[6n\u001b[?2004h\u001b[?25l\u001b[0m\u001b[?7l\u001b[0m\u001b[J\u001b[0;38;5;21m[16:23:57]\u001b[0m\n",
            "\u001b[0;38;5;21mGanga In [\u001b[0;38;5;4;1m3\u001b[0;38;5;21m]: \u001b[14D\u001b[14C\u001b[?7h\u001b[0m\u001b[?12l\u001b[?25h\u001b[?25l\u001b[?7l\u001b[?7h\u001b[0m\u001b[?12l\u001b[?25h\u001b[?25l\u001b[?7l\u001b[A\u001b[14D\u001b[0m\u001b[J\u001b[0;38;5;21m[16:24:30]\u001b[0m\n",
            "\u001b[0;38;5;21mGanga In [\u001b[0;38;5;4;1m3\u001b[0;38;5;21m]: \u001b[0m!more \u001b[0;38;5;60m$j\u001b[0m.outputdir/stdout\u001b[39D\u001b[0m\n",
            "\u001b[J\u001b[?7h\u001b[0m\u001b[?12l\u001b[?25h\u001b[?2004lHello World\n",
            "\n",
            "\u001b[?1l\u001b[6n\u001b[?2004h\u001b[?25l\u001b[0m\u001b[?7l\u001b[0m\u001b[J\u001b[0;38;5;21m[16:24:30]\u001b[0m\n",
            "\u001b[0;38;5;21mGanga In [\u001b[0;38;5;4;1m4\u001b[0;38;5;21m]: \u001b[14D\u001b[14C\u001b[?7h\u001b[0m\u001b[?12l\u001b[?25h\u001b[?25l\u001b[?7l\u001b[?7h\u001b[0m\u001b[?12l\u001b[?25h\u001b[?25l\u001b[?7l\u001b[A\u001b[14D\u001b[0m\u001b[J\u001b[0;38;5;21m[16:24:35]\u001b[0m\n",
            "\u001b[0;38;5;21mGanga In [\u001b[0;38;5;4;1m4\u001b[0;38;5;21m]: \u001b[0mquit\u001b[18D\u001b[0m\n",
            "\u001b[J\u001b[?7h\u001b[0m\u001b[?12l\u001b[?25h\u001b[?2004l\n",
            "\u001b[0;0mINFO     Stopping the monitoring component...\u001b[0;0m\n",
            "\u001b[0;0mINFO     Stopping Job processing before shutting down Repositories\u001b[0;0m\n",
            "\u001b[0;0mINFO     Shutting Down Ganga Repositories\u001b[0;0m\n",
            "\u001b[0;0mINFO     Registry Shutdown\u001b[0;0m\n"
          ],
          "name": "stdout"
        }
      ]
    }
  ]
}