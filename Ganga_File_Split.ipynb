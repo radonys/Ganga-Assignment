{
  "nbformat": 4,
  "nbformat_minor": 0,
  "metadata": {
    "colab": {
      "name": "Ganga_File_Split.ipynb",
      "version": "0.3.2",
      "provenance": [],
      "collapsed_sections": [],
      "include_colab_link": true
    },
    "kernelspec": {
      "name": "python2",
      "display_name": "Python 2"
    }
  },
  "cells": [
    {
      "cell_type": "markdown",
      "metadata": {
        "id": "view-in-github",
        "colab_type": "text"
      },
      "source": [
        "<a href=\"https://colab.research.google.com/github/radonys/Ganga-Assignment/blob/master/Ganga_File_Split.ipynb\" target=\"_parent\"><img src=\"https://colab.research.google.com/assets/colab-badge.svg\" alt=\"Open In Colab\"/></a>"
      ]
    },
    {
      "metadata": {
        "id": "C9m5SfFW34NU",
        "colab_type": "code",
        "colab": {}
      },
      "cell_type": "code",
      "source": [
        "!pip install ganga PyPDF2 pdfminer"
      ],
      "execution_count": 0,
      "outputs": []
    },
    {
      "metadata": {
        "id": "fYWRedW47MO6",
        "colab_type": "code",
        "colab": {}
      },
      "cell_type": "code",
      "source": [
        "from PyPDF2 import PdfFileWriter, PdfFileReader\n",
        "\n",
        "inputpdf = PdfFileReader(open(\"CERN.pdf\", \"rb\"))\n",
        "\n",
        "for i in range(inputpdf.numPages):\n",
        "    \n",
        "    output = PdfFileWriter()\n",
        "    output.addPage(inputpdf.getPage(i))\n",
        "    with open(\"page%s.pdf\" % str(i+1), \"wb\") as outputStream:\n",
        "        output.write(outputStream)"
      ],
      "execution_count": 0,
      "outputs": []
    },
    {
      "metadata": {
        "id": "yGLHyr5e3omK",
        "colab_type": "code",
        "colab": {}
      },
      "cell_type": "code",
      "source": [
        "s = ArgSplitter(args=[['page1.pdf'],['page2.pdf'],['page3.pdf'],['page4.pdf'],['page5.pdf'],['page6.pdf'],['page7.pdf'],['page8.pdf'],['page9.pdf'],['page10.pdf'],['page11.pdf'],['page12.pdf']])\n",
        "j = Job(splitter=s)\n",
        "j.application.exe = File('/content/execute.py')\n",
        "j.outputfiles = [LocalFile('my_output.txt')]\n",
        "j.submit()"
      ],
      "execution_count": 0,
      "outputs": []
    },
    {
      "metadata": {
        "id": "KB_5epQc4J6E",
        "colab_type": "code",
        "colab": {}
      },
      "cell_type": "code",
      "source": [
        "!ganga"
      ],
      "execution_count": 0,
      "outputs": []
    }
  ]
}